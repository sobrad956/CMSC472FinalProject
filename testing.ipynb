{
 "cells": [
  {
   "cell_type": "code",
   "execution_count": null,
   "metadata": {
    "colab": {
     "base_uri": "https://localhost:8080/"
    },
    "id": "kCRT8ow_guVR",
    "outputId": "b61b5f9c-bc10-4bcf-f02d-7dff58a66b19"
   },
   "outputs": [],
   "source": [
    "#!git clone https://github.com/sobrad956/CMSC472FinalProject.git\n"
   ]
  },
  {
   "cell_type": "code",
   "execution_count": null,
   "metadata": {
    "id": "mrvHcDWphdV2"
   },
   "outputs": [],
   "source": [
    "#!cd CMSC472FinalProject/\n"
   ]
  },
  {
   "cell_type": "code",
   "execution_count": null,
   "metadata": {
    "id": "LtG5eFlXhoK5"
   },
   "outputs": [],
   "source": [
    "import torch\n",
    "import torchvision as tv\n",
    "import torch.random\n",
    "import os\n",
    "import sys\n",
    "from PIL import Image\n",
    "from torchvision import transforms\n",
    "from torchvision.datasets import Food101\n",
    "from torchvision.transforms import ToTensor\n",
    "import torchvision\n",
    "import matplotlib.pyplot as plt\n",
    "import matplotlib\n"
   ]
  },
  {
   "cell_type": "code",
   "execution_count": null,
   "metadata": {
    "id": "qz46Qgu0h8Wj"
   },
   "outputs": [],
   "source": [
    "# assumes original color temp maxed out at (255,255,255)\n",
    "# expect Tensor of [..., 3 (r,g,b), H, W]\n",
    "class RandomSaltPepper(torch.nn.Module):\n",
    "    def __init__(self, p=0.5, type='salt'):\n",
    "        super().__init__()\n",
    "        self.p = p\n",
    "        self.salt = type in ['salt', 'both']\n",
    "        self.pepper = type in ['pepper', 'both']\n",
    "        self.color = []\n",
    "        if self.salt:\n",
    "            self.color.append(1)\n",
    "        if self.pepper:\n",
    "            self.color.append(0)\n",
    "\n",
    "    def forward(self, imgs):\n",
    "        if not len(self.color):\n",
    "            return imgs\n",
    "\n",
    "        # probably slow AF and not pythonic\n",
    "        for i, img in enumerate(imgs):\n",
    "            for h, row in enumerate(img[0]):\n",
    "                for w, _ in enumerate(row):\n",
    "                    if torch.rand(1) < self.p:\n",
    "                        imgs[i, :, h, w] = self.color[torch.randint(\n",
    "                            0, len(self.color), (1,)).item()]\n",
    "\n",
    "        return imgs\n",
    "\n",
    "\n",
    "class RandomGaussianNoise(torch.nn.Module):\n",
    "    def __init__(self, mean=0, var=1):\n",
    "        super().__init__()\n",
    "        self.mean = mean\n",
    "        self.var = var\n",
    "        self.sigma = var ** 0.5\n",
    "\n",
    "    def forward(self, imgs):\n",
    "        noise = torch.normal(self.mean, self.sigma, imgs.shape)\n",
    "        imgs += noise\n",
    "        imgs = torch.clamp(imgs, 0, 1)\n",
    "        return imgs\n"
   ]
  },
  {
   "cell_type": "code",
   "execution_count": null,
   "metadata": {
    "colab": {
     "base_uri": "https://localhost:8080/",
     "height": 1000
    },
    "id": "Avw3nU2lh_Jr",
    "outputId": "c339b615-111d-47dd-d066-835cc51daa6c"
   },
   "outputs": [],
   "source": [
    "# simple testbench\n",
    "if __name__ == '__main__':\n",
    "    root = os.path.expanduser(os.path.expanduser(os.path.join('~', 'data')))\n",
    "    dataset = Food101(root=root, download=True, transform=ToTensor())\n",
    "    aug = RandomSaltPepper(p=0.2, type='both')\n",
    "    aug2 = RandomGaussianNoise(mean=0, var=1./255.)\n",
    "    oim = torch.unsqueeze(dataset[0][0], 0)\n",
    "    aim = aug(torch.clone(oim))\n",
    "    aim2 = aug2(torch.clone(oim))\n",
    "    plt.figure(0)\n",
    "    plt.imshow(aim[0].permute(1, 2, 0))\n",
    "    plt.figure(1)\n",
    "    plt.imshow(aim2[0].permute(1, 2, 0))\n",
    "    plt.figure(2)\n",
    "    plt.imshow(oim[0].permute(1, 2, 0))\n",
    "    plt.show()\n"
   ]
  },
  {
   "cell_type": "code",
   "execution_count": null,
   "metadata": {
    "colab": {
     "base_uri": "https://localhost:8080/"
    },
    "id": "ke0ppySHiB_N",
    "outputId": "c390a906-c96b-4c60-81b0-6976e127b3be"
   },
   "outputs": [],
   "source": [
    "len(dataset)\n"
   ]
  },
  {
   "cell_type": "code",
   "execution_count": null,
   "metadata": {},
   "outputs": [],
   "source": [
    "# Set up dataloaders\n",
    "import torchvision.transforms as transforms\n",
    "from torch.utils.data import DataLoader\n",
    "\n",
    "\n",
    "normMean = [0.49139968, 0.48215827, 0.44653124]\n",
    "normStd = [0.24703233, 0.24348505, 0.26158768]\n",
    "normTransform = transforms.Normalize(normMean, normStd)\n",
    "\n",
    "trainTransform = transforms.Compose([\n",
    "    transforms.Resize([32, 32]),\n",
    "    transforms.RandomHorizontalFlip(),\n",
    "    transforms.ToTensor(),\n",
    "    normTransform\n",
    "])\n",
    "\n",
    "testTransform = transforms.Compose([\n",
    "    transforms.Resize([32, 32]),\n",
    "    transforms.ToTensor(),\n",
    "    normTransform\n",
    "])\n",
    "\n",
    "trainLoader = DataLoader(Food101(root=root, split=\"train\", download=False,\n",
    "                         transform=trainTransform), batch_size=64, shuffle=True)\n",
    "valLoader = DataLoader(Food101(root=root, split=\"test\", download=False,\n",
    "                       transform=testTransform), batch_size=64, shuffle=False)\n"
   ]
  },
  {
   "cell_type": "code",
   "execution_count": null,
   "metadata": {},
   "outputs": [],
   "source": [
    "# Set up all trial augmentations\n",
    "from augmentations import expt1augs, expt2augs, expt3augs, expt4augs, expt5augs, expt6augs\n",
    "\n",
    "# Baseline\n",
    "baseline = [(trainTransform, 'baseline')]\n",
    "\n",
    "# Experiment 1: Random S&P Noise\n",
    "noisepb = [.10, .20, .40]\n",
    "expt1 = [\n",
    "    (\n",
    "        expt1augs.RandomSaltPepper(p, type='both'),\n",
    "        f'expt1-rsp-{int(p * 100)}'\n",
    "    )\n",
    "    for p in noisepb\n",
    "]\n",
    "\n",
    "# Experiment 2: Temperature Changes\n",
    "temps = [1000, 3000, 6000, 9000]  # kelvin color temp\n",
    "ps = [0.5]  # 50% chance\n",
    "expt2 = [\n",
    "    (\n",
    "        expt2augs.RandomAdjustTemp(color=t, p=p),\n",
    "        f'expt2-temp-{t}-p{int(p * 100)}'\n",
    "    )\n",
    "    for t in temps for p in ps\n",
    "]\n",
    "\n",
    "# Experiment 3: Random Dropout of Regions\n",
    "ks = [0.5]  # prob of augment\n",
    "nps = [1, 2, 5]  # num patches\n",
    "ss = [5]  # size of patches\n",
    "expt3 = [\n",
    "    (\n",
    "        expt3augs.RandomDropout(s, n, k),\n",
    "        f'expt3-dropout-p{int(k * 100)}-i{n}-s{s}'\n",
    "    )\n",
    "    for n in nps for k in ks for s in ss\n",
    "]\n",
    "\n",
    "# Experiment 4: Random Region Swap\n",
    "ks = [0.5]  # prob of augment\n",
    "nps = [2, 4, 6]  # num patches\n",
    "ss = [5]  # size of patches\n",
    "expt4 = [\n",
    "    (\n",
    "        expt4augs.RandomRegionSwap(s, n, k),\n",
    "        f'expt4-swap-p{int(k * 100)}-i{n}-s{s}'\n",
    "    )\n",
    "    for n in nps for k in ks for s in ss\n",
    "]\n",
    "\n",
    "# Experiment 5: Black Bar Occlusion\n",
    "ns = [5]  # num of contiguous rows\n",
    "ms = [5]  # num of contiguous columns\n",
    "ks = [0.5]  # prob of augment\n",
    "expt5 = [\n",
    "    (\n",
    "        expt5augs.RandomRowColDropout(n, m, k),\n",
    "        f'expt5-rowcol-p{int(k * 100)}-n{n}-m{m}'\n",
    "    )\n",
    "    for n in ns for m in ms for k in ks\n",
    "]\n",
    "\n",
    "# Experiment 6: Random Apply Rotation, Scaling, Shearing, Translation\n",
    "augs = [\n",
    "    transforms.RandomRotation(180),\n",
    "    transforms.RandomResizedCrop((32, 32), antialias=True),\n",
    "    transforms.RandomAffine(0, translate=(0.20, 0.20)),\n",
    "    transforms.RandomAffine(0, shear=10)\n",
    "]  # one augment is applied in this list\n",
    "ks = [0.5]  # prob of exactly one above aug being applied\n",
    "expt6 = [\n",
    "    (\n",
    "        expt6augs.RandomApplyOne(k=k, augs=augs),\n",
    "        f'expt6-applyone-p{int(k * 100)}'\n",
    "    )\n",
    "    for k in ks\n",
    "]\n"
   ]
  },
  {
   "cell_type": "code",
   "execution_count": null,
   "metadata": {},
   "outputs": [],
   "source": [
    "# Run Densenet/SqueezeNet/InceptionNet3\n",
    "# import models\n",
    "\n",
    "from models import RunNet\n",
    "\n",
    "# change this to whatever set of experiments that will be done\n",
    "exptTransform = expt1\n",
    "model = 'DenseNet' \n",
    "# model = 'SqueezeNet' \n",
    "# model = 'InceptionNet'\n",
    "\n",
    "for expt_transform, expt_name in exptTransform:\n",
    "    r = RunNet(model=model, trainLoader=trainLoader,\n",
    "               valLoader=valLoader, verbose=True, experiment=expt_name, nEpochs=2, augment=expt_transform)\n",
    "    r.run()\n"
   ]
  }
 ],
 "metadata": {
  "colab": {
   "provenance": []
  },
  "kernelspec": {
   "display_name": "Python 3",
   "language": "python",
   "name": "python3"
  },
  "language_info": {
   "codemirror_mode": {
    "name": "ipython",
    "version": 3
   },
   "file_extension": ".py",
   "mimetype": "text/x-python",
   "name": "python",
   "nbconvert_exporter": "python",
   "pygments_lexer": "ipython3",
   "version": "3.10.6"
  }
 },
 "nbformat": 4,
 "nbformat_minor": 4
}
